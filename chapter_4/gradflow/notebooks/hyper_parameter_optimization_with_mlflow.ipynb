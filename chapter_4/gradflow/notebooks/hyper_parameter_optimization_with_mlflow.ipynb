{
 "cells": [
  {
   "cell_type": "code",
   "execution_count": 30,
   "metadata": {},
   "outputs": [],
   "source": [
    "from sklearn.datasets import load_iris\n",
    "from sklearn.model_selection import cross_val_score\n",
    "from sklearn.svm import SVC\n",
    " \n",
    "from hyperopt import fmin, tpe, hp, SparkTrials, STATUS_OK, Trials\n",
    " \n",
    "# If you are running Databricks Runtime for Machine Learning, `mlflow` is already installed and you can skip the following line. \n",
    "import mlflow\n"
   ]
  },
  {
   "cell_type": "code",
   "execution_count": null,
   "metadata": {},
   "outputs": [],
   "source": [
    "def run_function(params,parent_master_run):\n",
    "    with mlflow.start_run(run_name='logistic_regression_model_baseline') as run:\n",
    "        model.fit(X_train, y_train)\n",
    "        preds = model.predict(X_test)\n",
    "        y_pred = np.where(preds>0.5,1,0)\n",
    "        f1 = f1_score(y_test, y_pred)\n",
    "        mlflow.log_metric(key=\"f1_experiment_score\", value=f1)\n",
    "    return f1\n",
    "    "
   ]
  },
  {
   "cell_type": "code",
   "execution_count": 31,
   "metadata": {},
   "outputs": [],
   "source": [
    "\n",
    "space = {\n",
    " 'warm_start' : hp.choice('warm_start', [True, False]),\n",
    " 'fit_intercept' : hp.choice('fit_intercept', [True, False]),\n",
    " 'tol' : hp.uniform('tol', 0.00001, 0.0001),\n",
    " 'C' : hp.uniform('C', 0.05, 3),\n",
    " 'solver' : hp.choice('solver', ['newton-cg', 'lbfgs', 'liblinear']),\n",
    " 'max_iter' : hp.choice('max_iter', range(100,1000)),\n",
    " 'scale': hp.choice('scale', [0, 1]),\n",
    " 'normalize': hp.choice('normalize', [0, 1]),\n",
    " 'multi_class' : 'auto',\n",
    " 'class_weight' : 'balanced'\n",
    "}\n"
   ]
  },
  {
   "cell_type": "code",
   "execution_count": 36,
   "metadata": {},
   "outputs": [],
   "source": [
    "# define an objective function\n",
    "def objective(params):\n",
    "    with mlflow.start_run(run_name = \"Tutorial for Medium\"):         \n",
    "        mlflow.set_tag('remark', 'use MLflow with hyperOpt')\n",
    "        # log_params\n",
    "        for k, v in params.items():        \n",
    "            mlflow.log_param(k, v)\n",
    "        # fit model\n",
    "        data = load_data()\n",
    "        model, prediction, loss = fit_model(data)\n",
    "        # log model\n",
    "        mlflow.log_metric(\"score\", loss)\n",
    "        mlflow.sklearn.log_model(model, 'model')\n",
    "        return {'loss' : loss, 'status' : hp.STATUS_OK}"
   ]
  },
  {
   "cell_type": "code",
   "execution_count": 38,
   "metadata": {},
   "outputs": [
    {
     "ename": "NameError",
     "evalue": "name 'scope' is not defined",
     "output_type": "error",
     "traceback": [
      "\u001b[0;31m---------------------------------------------------------------------------\u001b[0m",
      "\u001b[0;31mNameError\u001b[0m                                 Traceback (most recent call last)",
      "\u001b[0;32m<ipython-input-38-1fa6bb830f72>\u001b[0m in \u001b[0;36m<module>\u001b[0;34m\u001b[0m\n\u001b[1;32m      3\u001b[0m \u001b[0mspace\u001b[0m \u001b[0;34m=\u001b[0m \u001b[0mdict\u001b[0m\u001b[0;34m(\u001b[0m\u001b[0;34m)\u001b[0m\u001b[0;34m\u001b[0m\u001b[0;34m\u001b[0m\u001b[0m\n\u001b[1;32m      4\u001b[0m \u001b[0;34m\u001b[0m\u001b[0m\n\u001b[0;32m----> 5\u001b[0;31m \u001b[0mspace\u001b[0m\u001b[0;34m[\u001b[0m\u001b[0;34m'n_estimator'\u001b[0m\u001b[0;34m]\u001b[0m \u001b[0;34m=\u001b[0m \u001b[0mscope\u001b[0m\u001b[0;34m.\u001b[0m\u001b[0mto_int\u001b[0m\u001b[0;34m(\u001b[0m\u001b[0mhp\u001b[0m\u001b[0;34m.\u001b[0m\u001b[0mhp\u001b[0m\u001b[0;34m.\u001b[0m\u001b[0mquniform\u001b[0m\u001b[0;34m(\u001b[0m\u001b[0;34m'n_estimator'\u001b[0m\u001b[0;34m,\u001b[0m\u001b[0;36m100\u001b[0m\u001b[0;34m,\u001b[0m\u001b[0;36m2000\u001b[0m\u001b[0;34m,\u001b[0m\u001b[0;36m100\u001b[0m\u001b[0;34m)\u001b[0m\u001b[0;34m)\u001b[0m\u001b[0;34m\u001b[0m\u001b[0;34m\u001b[0m\u001b[0m\n\u001b[0m\u001b[1;32m      6\u001b[0m \u001b[0;34m\u001b[0m\u001b[0m\n\u001b[1;32m      7\u001b[0m \u001b[0mspace\u001b[0m\u001b[0;34m[\u001b[0m\u001b[0;34m'max_depth'\u001b[0m\u001b[0;34m]\u001b[0m \u001b[0;34m=\u001b[0m  \u001b[0mscope\u001b[0m\u001b[0;34m.\u001b[0m\u001b[0mto_int\u001b[0m\u001b[0;34m(\u001b[0m\u001b[0mhp\u001b[0m\u001b[0;34m.\u001b[0m\u001b[0mhp\u001b[0m\u001b[0;34m.\u001b[0m\u001b[0mquniform\u001b[0m\u001b[0;34m(\u001b[0m\u001b[0;34m'max_depth'\u001b[0m\u001b[0;34m,\u001b[0m\u001b[0;36m3\u001b[0m\u001b[0;34m,\u001b[0m\u001b[0;36m20\u001b[0m\u001b[0;34m,\u001b[0m\u001b[0;36m1\u001b[0m\u001b[0;34m)\u001b[0m\u001b[0;34m)\u001b[0m\u001b[0;34m\u001b[0m\u001b[0;34m\u001b[0m\u001b[0m\n",
      "\u001b[0;31mNameError\u001b[0m: name 'scope' is not defined"
     ]
    }
   ],
   "source": [
    "# define a search space\n",
    "from hyperopt import hp\n",
    "space = dict()  \n",
    "    \n",
    "space['n_estimator'] = scope.to_int(hp.hp.quniform('n_estimator',100,2000,100))\n",
    "    \n",
    "space['max_depth'] =  scope.to_int(hp.hp.quniform('max_depth',3,20,1))\n",
    "    \n",
    "space['learning_rate'] = hp.hp.loguniform('learning_rate', -5, 0)\n",
    "\n",
    "# minimize the objective over the space\n",
    "# trials for logging information  \n",
    "trials = hp.Trials()\n",
    "# max evaluation round  \n",
    "max_evals = 100\n",
    "# running optimisation  \n",
    "best = hp.fmin(fn = objective, space = space, algo = hp.tpe.suggest, max_evals = max_evals, trials = trials)"
   ]
  },
  {
   "cell_type": "code",
   "execution_count": null,
   "metadata": {},
   "outputs": [],
   "source": []
  }
 ],
 "metadata": {
  "kernelspec": {
   "display_name": "Python 3",
   "language": "python",
   "name": "python3"
  },
  "language_info": {
   "codemirror_mode": {
    "name": "ipython",
    "version": 3
   },
   "file_extension": ".py",
   "mimetype": "text/x-python",
   "name": "python",
   "nbconvert_exporter": "python",
   "pygments_lexer": "ipython3",
   "version": "3.7.6"
  }
 },
 "nbformat": 4,
 "nbformat_minor": 4
}
